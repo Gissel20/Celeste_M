{
 "cells": [
  {
   "cell_type": "markdown",
   "metadata": {},
   "source": [
    "# CRTBP "
   ]
  },
  {
   "cell_type": "code",
   "execution_count": 38,
   "metadata": {
    "collapsed": true
   },
   "outputs": [],
   "source": [
    "from numpy import *\n",
    "from scipy.optimize import *\n",
    "import matplotlib.pyplot as plt\n",
    "from mpl_toolkits.mplot3d import Axes3D\n",
    "\n",
    "from numpy.linalg import norm\n",
    "%matplotlib inline\n",
    "DEG=pi/180\n",
    "RAD=180/pi"
   ]
  },
  {
   "cell_type": "markdown",
   "metadata": {},
   "source": [
    "# Ecuaciones de Movimiento"
   ]
  },
  {
   "cell_type": "code",
   "execution_count": 48,
   "metadata": {
    "collapsed": false
   },
   "outputs": [],
   "source": [
    "def eom(t,q):\n",
    "    mu=1e-3\n",
    "    r1=array([-mu,0,0])\n",
    "    r2=array([1-mu,0,0])\n",
    "    omega=array([0,0,1])\n",
    "    r=q[:3]\n",
    "    v=q[3:]\n",
    "    R1=r-r1\n",
    "    R2=r-r2\n",
    "    drdt=v\n",
    "    dvdt=-(1-mu)/norm(R1)**3*R1-mu/norm(R2)**3*R2-cross(omega,cross(omega,r))-2*cross(omega,v)\n",
    "    return np.array([drdt, dvdt])\n",
    "\n",
    "def JacobiConstant(r,v,mu):\n",
    "    r1=array([-mu,0,0])\n",
    "    r2=array([1-mu,0,0])\n",
    "    omega=array([0,0,1])\n",
    "    R1=r-r1\n",
    "    R2=r-r2\n",
    "    C=norm(v)**2-2*(1-mu)/norm(R1)-2*mu/norm(R2)-(r[0]**2+r[1]**2)\n",
    "    return C\n",
    "\n",
    "# Matriz de Rotación\n",
    "def rotationMatrix(t,axis):\n",
    "    R=identity(3)\n",
    "    r=array([[cos(t),sin(t)],[-sin(t),cos(t)]])\n",
    "    if axis=='z':R[0:2,0:2]=r\n",
    "    elif axis=='x':R[1:3,1:3]=r\n",
    "    else:\n",
    "        R[0,0]=r[0,0];R[0,2]=r[0,1]\n",
    "        R[2,0]=r[1,0];R[2,2]=r[1,1]\n",
    "    return R\n"
   ]
  },
  {
   "cell_type": "markdown",
   "metadata": {
    "collapsed": true
   },
   "source": [
    "# Integradores"
   ]
  },
  {
   "cell_type": "code",
   "execution_count": 55,
   "metadata": {
    "collapsed": false
   },
   "outputs": [],
   "source": [
    "def RK4(f,y,t,h):\n",
    "    #Creating solutions\n",
    "    K0 = h*f(t,y)\n",
    "    K1 = h*f(t + 0.5*h, y + 0.5*K0)\n",
    "    K2 = h*f(t + 0.5*h, y + 0.5*K1)\n",
    "    K3 = h*f(t + h, y + K2)\n",
    "    y1 = y + K1\n",
    "    return y1"
   ]
  },
  {
   "cell_type": "markdown",
   "metadata": {
    "collapsed": true
   },
   "source": [
    "# Orbita de un cometa"
   ]
  },
  {
   "cell_type": "code",
   "execution_count": 56,
   "metadata": {
    "collapsed": false,
    "scrolled": true
   },
   "outputs": [
    {
     "ename": "ValueError",
     "evalue": "operands could not be broadcast together with shapes (2,3) (0,3) ",
     "output_type": "error",
     "traceback": [
      "\u001b[1;31m---------------------------------------------------------------------------\u001b[0m",
      "\u001b[1;31mValueError\u001b[0m                                Traceback (most recent call last)",
      "\u001b[1;32m<ipython-input-56-0e7f416355e4>\u001b[0m in \u001b[0;36m<module>\u001b[1;34m()\u001b[0m\n\u001b[0;32m      8\u001b[0m \u001b[0mh\u001b[0m\u001b[1;33m=\u001b[0m\u001b[1;36m0.01\u001b[0m\u001b[1;33m\u001b[0m\u001b[0m\n\u001b[0;32m      9\u001b[0m \u001b[0mts\u001b[0m\u001b[1;33m=\u001b[0m\u001b[0mlinspace\u001b[0m\u001b[1;33m(\u001b[0m\u001b[1;36m0\u001b[0m\u001b[1;33m,\u001b[0m\u001b[1;36m30.0\u001b[0m\u001b[1;33m,\u001b[0m\u001b[1;36m1000\u001b[0m\u001b[1;33m)\u001b[0m\u001b[1;33m\u001b[0m\u001b[0m\n\u001b[1;32m---> 10\u001b[1;33m \u001b[0msolution\u001b[0m\u001b[1;33m=\u001b[0m\u001b[0mRK4\u001b[0m\u001b[1;33m(\u001b[0m\u001b[0meom\u001b[0m\u001b[1;33m,\u001b[0m\u001b[0mq\u001b[0m\u001b[1;33m,\u001b[0m\u001b[0mts\u001b[0m\u001b[1;33m,\u001b[0m\u001b[0mh\u001b[0m\u001b[1;33m)\u001b[0m\u001b[1;33m\u001b[0m\u001b[0m\n\u001b[0m\u001b[0;32m     11\u001b[0m \u001b[1;31m#~print solution\u001b[0m\u001b[1;33m\u001b[0m\u001b[1;33m\u001b[0m\u001b[0m\n\u001b[0;32m     12\u001b[0m \u001b[1;33m\u001b[0m\u001b[0m\n",
      "\u001b[1;32m<ipython-input-55-d6e16ea159b7>\u001b[0m in \u001b[0;36mRK4\u001b[1;34m(f, y, t, h)\u001b[0m\n\u001b[0;32m      1\u001b[0m \u001b[1;32mdef\u001b[0m \u001b[0mRK4\u001b[0m\u001b[1;33m(\u001b[0m\u001b[0mf\u001b[0m\u001b[1;33m,\u001b[0m\u001b[0my\u001b[0m\u001b[1;33m,\u001b[0m\u001b[0mt\u001b[0m\u001b[1;33m,\u001b[0m\u001b[0mh\u001b[0m\u001b[1;33m)\u001b[0m\u001b[1;33m:\u001b[0m\u001b[1;33m\u001b[0m\u001b[0m\n\u001b[0;32m      2\u001b[0m     \u001b[1;31m#Creating solutions\u001b[0m\u001b[1;33m\u001b[0m\u001b[1;33m\u001b[0m\u001b[0m\n\u001b[1;32m----> 3\u001b[1;33m     \u001b[0mK0\u001b[0m \u001b[1;33m=\u001b[0m \u001b[0mh\u001b[0m\u001b[1;33m*\u001b[0m\u001b[0mf\u001b[0m\u001b[1;33m(\u001b[0m\u001b[0mt\u001b[0m\u001b[1;33m,\u001b[0m\u001b[0my\u001b[0m\u001b[1;33m)\u001b[0m\u001b[1;33m\u001b[0m\u001b[0m\n\u001b[0m\u001b[0;32m      4\u001b[0m     \u001b[0mK1\u001b[0m \u001b[1;33m=\u001b[0m \u001b[0mh\u001b[0m\u001b[1;33m*\u001b[0m\u001b[0mf\u001b[0m\u001b[1;33m(\u001b[0m\u001b[0mt\u001b[0m \u001b[1;33m+\u001b[0m \u001b[1;36m0.5\u001b[0m\u001b[1;33m*\u001b[0m\u001b[0mh\u001b[0m\u001b[1;33m,\u001b[0m \u001b[0my\u001b[0m \u001b[1;33m+\u001b[0m \u001b[1;36m0.5\u001b[0m\u001b[1;33m*\u001b[0m\u001b[0mK0\u001b[0m\u001b[1;33m)\u001b[0m\u001b[1;33m\u001b[0m\u001b[0m\n\u001b[0;32m      5\u001b[0m     \u001b[0mK2\u001b[0m \u001b[1;33m=\u001b[0m \u001b[0mh\u001b[0m\u001b[1;33m*\u001b[0m\u001b[0mf\u001b[0m\u001b[1;33m(\u001b[0m\u001b[0mt\u001b[0m \u001b[1;33m+\u001b[0m \u001b[1;36m0.5\u001b[0m\u001b[1;33m*\u001b[0m\u001b[0mh\u001b[0m\u001b[1;33m,\u001b[0m \u001b[0my\u001b[0m \u001b[1;33m+\u001b[0m \u001b[1;36m0.5\u001b[0m\u001b[1;33m*\u001b[0m\u001b[0mK1\u001b[0m\u001b[1;33m)\u001b[0m\u001b[1;33m\u001b[0m\u001b[0m\n",
      "\u001b[1;32m<ipython-input-48-50f00e450da4>\u001b[0m in \u001b[0;36meom\u001b[1;34m(t, q)\u001b[0m\n\u001b[0;32m      9\u001b[0m     \u001b[0mR2\u001b[0m\u001b[1;33m=\u001b[0m\u001b[0mr\u001b[0m\u001b[1;33m-\u001b[0m\u001b[0mr2\u001b[0m\u001b[1;33m\u001b[0m\u001b[0m\n\u001b[0;32m     10\u001b[0m     \u001b[0mdrdt\u001b[0m\u001b[1;33m=\u001b[0m\u001b[0mv\u001b[0m\u001b[1;33m\u001b[0m\u001b[0m\n\u001b[1;32m---> 11\u001b[1;33m     \u001b[0mdvdt\u001b[0m\u001b[1;33m=\u001b[0m\u001b[1;33m-\u001b[0m\u001b[1;33m(\u001b[0m\u001b[1;36m1\u001b[0m\u001b[1;33m-\u001b[0m\u001b[0mmu\u001b[0m\u001b[1;33m)\u001b[0m\u001b[1;33m/\u001b[0m\u001b[0mnorm\u001b[0m\u001b[1;33m(\u001b[0m\u001b[0mR1\u001b[0m\u001b[1;33m)\u001b[0m\u001b[1;33m**\u001b[0m\u001b[1;36m3\u001b[0m\u001b[1;33m*\u001b[0m\u001b[0mR1\u001b[0m\u001b[1;33m-\u001b[0m\u001b[0mmu\u001b[0m\u001b[1;33m/\u001b[0m\u001b[0mnorm\u001b[0m\u001b[1;33m(\u001b[0m\u001b[0mR2\u001b[0m\u001b[1;33m)\u001b[0m\u001b[1;33m**\u001b[0m\u001b[1;36m3\u001b[0m\u001b[1;33m*\u001b[0m\u001b[0mR2\u001b[0m\u001b[1;33m-\u001b[0m\u001b[0mcross\u001b[0m\u001b[1;33m(\u001b[0m\u001b[0momega\u001b[0m\u001b[1;33m,\u001b[0m\u001b[0mcross\u001b[0m\u001b[1;33m(\u001b[0m\u001b[0momega\u001b[0m\u001b[1;33m,\u001b[0m\u001b[0mr\u001b[0m\u001b[1;33m)\u001b[0m\u001b[1;33m)\u001b[0m\u001b[1;33m-\u001b[0m\u001b[1;36m2\u001b[0m\u001b[1;33m*\u001b[0m\u001b[0mcross\u001b[0m\u001b[1;33m(\u001b[0m\u001b[0momega\u001b[0m\u001b[1;33m,\u001b[0m\u001b[0mv\u001b[0m\u001b[1;33m)\u001b[0m\u001b[1;33m\u001b[0m\u001b[0m\n\u001b[0m\u001b[0;32m     12\u001b[0m     \u001b[1;32mreturn\u001b[0m \u001b[0mnp\u001b[0m\u001b[1;33m.\u001b[0m\u001b[0marray\u001b[0m\u001b[1;33m(\u001b[0m\u001b[1;33m[\u001b[0m\u001b[0mdrdt\u001b[0m\u001b[1;33m,\u001b[0m \u001b[0mdvdt\u001b[0m\u001b[1;33m]\u001b[0m\u001b[1;33m)\u001b[0m\u001b[1;33m\u001b[0m\u001b[0m\n\u001b[0;32m     13\u001b[0m \u001b[1;33m\u001b[0m\u001b[0m\n",
      "\u001b[1;31mValueError\u001b[0m: operands could not be broadcast together with shapes (2,3) (0,3) "
     ]
    }
   ],
   "source": [
    "# Condiciones iniciales del cometa\n",
    "r=array([0.9,0,0])\n",
    "v=array([0,0.3,0.1])\n",
    "q=array([r,v])\n",
    "mu=1e-3 #Para el sol y Jupiter\n",
    "\n",
    "# Solución\n",
    "h=0.01\n",
    "ts=linspace(0,30.0,1000)\n",
    "solution=RK4(eom,q,ts,h)\n",
    "#~print solution\n",
    "\n",
    "rs=solution[0]\n",
    "vs=solution[1]\n",
    "\n",
    "# Transformación al sistema no rotante\n",
    "ris=zeros_like(rs)\n",
    "vis=zeros_like(vs)\n",
    "for i in xrange(Nt):\n",
    "    ris[i]=rotationMatrix(ts[i],'z').dot(rs[i])\n",
    "    vis[i]=vs[i]+cross(array([0,0,1]),rs[i])\n",
    "\n",
    "# Gráfica del movimiento en el sistema rotante\n",
    "fig=plt.figure(figsize=(12,6))\n",
    "axr=fig.add_subplot(1,2,1)\n",
    "axi=fig.add_subplot(1,2,2)\n",
    "\n",
    "# Rotante\n",
    "axr.plot(rs[:,0],rs[:,1])\n",
    "axr.plot([-mu],[0],'yo',markersize=10)\n",
    "axr.plot([1-mu],[0],'ro')\n",
    "\n",
    "# No rotante\n",
    "axi.plot([-mu],[0],'yo',markersize=10)\n",
    "axi.plot(cos(ts),sin(ts),'r-',markersize=10)\n",
    "axi.plot(ris[:,0],ris[:,1])\n",
    "\n",
    "axr.set_title(\"Rotating\")\n",
    "axr.set_title(\"Inertial\")\n",
    "\n",
    "ext=2\n",
    "for ax in axr,axi:\n",
    "    ax.set_xlim((-ext,ext))\n",
    "    ax.set_ylim((-ext,ext))\n",
    "    ax.grid()\n"
   ]
  },
  {
   "cell_type": "markdown",
   "metadata": {},
   "source": [
    "# Evolución de los elementos orbitales"
   ]
  },
  {
   "cell_type": "code",
   "execution_count": 25,
   "metadata": {
    "collapsed": false
   },
   "outputs": [
    {
     "data": {
      "text/plain": [
       "[<matplotlib.lines.Line2D at 0x7f4544cd2e90>]"
      ]
     },
     "execution_count": 25,
     "metadata": {},
     "output_type": "execute_result"
    },
    {
     "data": {
      "image/png": "[encoded data removed]",
      "text/plain": [
       "<matplotlib.figure.Figure at 0x7f45440ceb50>"
      ]
     },
     "metadata": {},
     "output_type": "display_data"
    }
   ],
   "source": [
    "# Momento angular y vector de excentricidad\n",
    "ps=[]\n",
    "es=[]\n",
    "ies=[]\n",
    "aes=[]\n",
    "for i in xrange(Nt):\n",
    "    r=ris[i]\n",
    "    v=vis[i]\n",
    "    h=cross(r,v)\n",
    "    evec=cross(v,h)-r/norm(r)\n",
    "    e=norm(evec)\n",
    "    p=norm(h)**2\n",
    "\n",
    "    # Elementos orbitales\n",
    "    ps+=[norm(h)**2]\n",
    "    es+=[e]\n",
    "    ies+=[arccos(h[2]/norm(h))*RAD]\n",
    "    aes+=[p/(1-e**2)]\n",
    "    \n",
    "ps=array(ps);es=array(es);ies=array(ies);aes=array(aes)\n",
    "    \n",
    "fig=plt.figure(figsize=(12,12))\n",
    "axp=fig.add_subplot(2,2,1)\n",
    "axe=fig.add_subplot(2,2,2)\n",
    "axi=fig.add_subplot(2,2,3)\n",
    "axa=fig.add_subplot(2,2,4)\n",
    "\n",
    "axp.plot(ts,ps)\n",
    "axe.plot(ts,es)\n",
    "axi.plot(ts,ies)\n",
    "axa.plot(ts,aes)"
   ]
  },
  {
   "cell_type": "markdown",
   "metadata": {
    "collapsed": true
   },
   "source": [
    "# El parámetro de Tisserand"
   ]
  },
  {
   "cell_type": "code",
   "execution_count": 26,
   "metadata": {
    "collapsed": false
   },
   "outputs": [
    {
     "data": {
      "text/plain": [
       "[<matplotlib.lines.Line2D at 0x7f45476293d0>]"
      ]
     },
     "execution_count": 26,
     "metadata": {},
     "output_type": "execute_result"
    },
    {
     "data": {
      "image/png": "[encoded data removed]",
      "text/plain": [
       "<matplotlib.figure.Figure at 0x7f45477dd690>"
      ]
     },
     "metadata": {},
     "output_type": "display_data"
    }
   ],
   "source": [
    "# Parametro de Tisserand\n",
    "C = 1/aes+2*sqrt(aes*(1-es**2))*cos(ies*DEG)\n",
    "\n",
    "plt.plot(ts,C)"
   ]
  },
  {
   "cell_type": "code",
   "execution_count": 43,
   "metadata": {
    "collapsed": false
   },
   "outputs": [
    {
     "name": "stdout",
     "output_type": "stream",
     "text": [
      "0.001\n"
     ]
    }
   ],
   "source": [
    "print 1e-3"
   ]
  },
  {
   "cell_type": "code",
   "execution_count": null,
   "metadata": {
    "collapsed": true
   },
   "outputs": [],
   "source": []
  }
 ],
 "metadata": {
  "kernelspec": {
   "display_name": "Python 2",
   "language": "python",
   "name": "python2"
  },
  "language_info": {
   "codemirror_mode": {
    "name": "ipython",
    "version": 2
   },
   "file_extension": ".py",
   "mimetype": "text/x-python",
   "name": "python",
   "nbconvert_exporter": "python",
   "pygments_lexer": "ipython2",
   "version": "2.7.11"
  }
 },
 "nbformat": 4,
 "nbformat_minor": 0
}
