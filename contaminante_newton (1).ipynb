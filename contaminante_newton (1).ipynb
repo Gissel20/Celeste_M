{
 "cells": [
  {
   "cell_type": "code",
   "execution_count": 19,
   "metadata": {
    "collapsed": true
   },
   "outputs": [],
   "source": [
    "import numpy as np\n",
    "import matplotlib.pyplot as plt\n",
    "%matplotlib inline"
   ]
  },
  {
   "cell_type": "code",
   "execution_count": 20,
   "metadata": {
    "collapsed": false
   },
   "outputs": [],
   "source": [
    "x=np.array([0.0,1.1,1.9,2.5]) #arreglo de datos de los puntos\n",
    "y=np.array([250,200,140,80]) #fx"
   ]
  },
  {
   "cell_type": "code",
   "execution_count": 21,
   "metadata": {
    "collapsed": true
   },
   "outputs": [],
   "source": [
    "def coef(x, y): \n",
    "    n = len(x)\n",
    "    a = []\n",
    "    for i in range(n):\n",
    "        a.append(y[i])\n",
    "\n",
    "    for j in range(1, n):\n",
    "\n",
    "        for i in range(n-1, j-1, -1):\n",
    "            a[i] = float(a[i]-a[i-1])/float(x[i]-x[i-j])\n",
    "\n",
    "    return np.array(a) #Devuelve los coeficientes"
   ]
  },
  {
   "cell_type": "code",
   "execution_count": 22,
   "metadata": {
    "collapsed": false
   },
   "outputs": [],
   "source": [
    "def Eval(a, x, xl):\n",
    "\n",
    "    #a es el arreglo de los coeficientes\n",
    "    #xl los puntos a interpolar  \n",
    "    n = len( a ) - 1\n",
    "    pol = a[n]\n",
    "    for i in range( n - 1, -1, -1 ):\n",
    "        pol = pol * ( xl - x[i] ) + a[i]\n",
    "    return pol"
   ]
  },
  {
   "cell_type": "code",
   "execution_count": 23,
   "metadata": {
    "collapsed": false
   },
   "outputs": [
    {
     "name": "stdout",
     "output_type": "stream",
     "text": [
      "[ 250.          -45.45454545  -15.55023923   -0.92276145]\n",
      "[ 0.          0.14210526  0.28421053  0.42631579  0.56842105  0.71052632\n",
      "  0.85263158  0.99473684  1.13684211  1.27894737  1.42105263  1.56315789\n",
      "  1.70526316  1.84736842  1.98947368  2.13157895  2.27368421  2.41578947\n",
      "  2.55789474  2.7       ] [ 250.          245.43659202  240.34106079  234.69751823  228.49007626\n",
      "  221.70284683  214.31994185  206.32547325  197.70355298  188.43829294\n",
      "  178.51380507  167.91420131  156.62359357  144.62609379  131.9058139\n",
      "  118.44686582  104.23336148   89.24941281   73.47913175   56.90663021]\n"
     ]
    }
   ],
   "source": [
    "a=coef(x,y)\n",
    "xl=np.linspace(0,2.7,20)\n",
    "polx=Eval(a,x,xl)\n",
    "print a\n",
    "print r,polx"
   ]
  },
  {
   "cell_type": "code",
   "execution_count": 24,
   "metadata": {
    "collapsed": false
   },
   "outputs": [
    {
     "data": {
      "image/png": "[encoded data removed]",
      "text/plain": [
       "<matplotlib.figure.Figure at 0x7f8e2556afd0>"
      ]
     },
     "metadata": {},
     "output_type": "display_data"
    },
    {
     "data": {
      "image/png": "[encoded data removed]",
      "text/plain": [
       "<matplotlib.figure.Figure at 0x7f8dfc2a6450>"
      ]
     },
     "metadata": {},
     "output_type": "display_data"
    }
   ],
   "source": [
    "plt.figure()\n",
    "plt.plot(x,y,\"o\")\n",
    "plt.show()\n",
    "plt.plot(x,y,\"o-\")\n",
    "plt.plot(r,polx,\"4-\", color=\"red\")\n",
    "plt.show()"
   ]
  },
  {
   "cell_type": "code",
   "execution_count": null,
   "metadata": {
    "collapsed": true
   },
   "outputs": [],
   "source": []
  },
  {
   "cell_type": "code",
   "execution_count": null,
   "metadata": {
    "collapsed": true
   },
   "outputs": [],
   "source": []
  }
 ],
 "metadata": {
  "kernelspec": {
   "display_name": "Python 2",
   "language": "python",
   "name": "python2"
  },
  "language_info": {
   "codemirror_mode": {
    "name": "ipython",
    "version": 2
   },
   "file_extension": ".py",
   "mimetype": "text/x-python",
   "name": "python",
   "nbconvert_exporter": "python",
   "pygments_lexer": "ipython2",
   "version": "2.7.10"
  }
 },
 "nbformat": 4,
 "nbformat_minor": 0
}
